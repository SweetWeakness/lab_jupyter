{
 "cells": [
  {
   "cell_type": "markdown",
   "metadata": {},
   "source": [
    "# Аналитика данных с помощью pandas и matplotlib\n",
    "\n",
    "В этом задании вам предлагается выполнить анализ данных криптовалют с помощью библиотек pandas и matplotlib.\n",
    "Задание выглядит как лабораторная работа, в которой вам предстоит заполнить недостающие клетки и ответить на ряд вопросов.\n",
    "\n",
    "Минимальные баллы для зачёта по этой работе - 3 балла. Если вы не набираете тут 3 балла, то по всему курсу вы получаете неуд<br> (см. слайды с семинара №1)\n",
    "\n",
    " - [Официальная документация pandas](https://pandas.pydata.org/)\n",
    " - [Официальная документация по matplotlib](https://matplotlib.org/index.html)"
   ]
  },
  {
   "cell_type": "markdown",
   "metadata": {},
   "source": [
    "## 1. Данные (2 балла)"
   ]
  },
  {
   "cell_type": "markdown",
   "metadata": {},
   "source": [
    "Начнем с необходимых приготовлений."
   ]
  },
  {
   "cell_type": "code",
   "execution_count": 3,
   "metadata": {},
   "outputs": [],
   "source": [
    "import numpy as np\n",
    "import pandas as pd\n",
    "import matplotlib as mpl  \n",
    "import matplotlib.pyplot as plt\n",
    "import ipywidgets  # Библиотека для интерактивных контролов в jupyter notebook'е\n",
    "\n",
    "%matplotlib inline"
   ]
  },
  {
   "cell_type": "markdown",
   "metadata": {},
   "source": [
    "#### Загрузите заранее подготовленный датасет из файла \"coins.csv\". Создайте объект типа pandas.DataFrame с именем coins и в качестве индекса выберите колонку с датой."
   ]
  },
  {
   "cell_type": "code",
   "execution_count": 4,
   "metadata": {},
   "outputs": [],
   "source": [
    "coins = pd.read_csv('coins.csv')"
   ]
  },
  {
   "cell_type": "markdown",
   "metadata": {},
   "source": [
    "Посмотрим что получилось"
   ]
  },
  {
   "cell_type": "code",
   "execution_count": 5,
   "metadata": {},
   "outputs": [
    {
     "data": {
      "text/html": [
       "<div>\n",
       "<style scoped>\n",
       "    .dataframe tbody tr th:only-of-type {\n",
       "        vertical-align: middle;\n",
       "    }\n",
       "\n",
       "    .dataframe tbody tr th {\n",
       "        vertical-align: top;\n",
       "    }\n",
       "\n",
       "    .dataframe thead th {\n",
       "        text-align: right;\n",
       "    }\n",
       "</style>\n",
       "<table border=\"1\" class=\"dataframe\">\n",
       "  <thead>\n",
       "    <tr style=\"text-align: right;\">\n",
       "      <th></th>\n",
       "      <th>date</th>\n",
       "      <th>price</th>\n",
       "      <th>txCount</th>\n",
       "      <th>txVolume</th>\n",
       "      <th>activeAddresses</th>\n",
       "      <th>symbol</th>\n",
       "      <th>name</th>\n",
       "      <th>open</th>\n",
       "      <th>high</th>\n",
       "      <th>low</th>\n",
       "      <th>close</th>\n",
       "      <th>volume</th>\n",
       "      <th>market</th>\n",
       "    </tr>\n",
       "  </thead>\n",
       "  <tbody>\n",
       "    <tr>\n",
       "      <th>0</th>\n",
       "      <td>2013-04-28</td>\n",
       "      <td>135.30</td>\n",
       "      <td>41702.0</td>\n",
       "      <td>6.879868e+07</td>\n",
       "      <td>117984.0</td>\n",
       "      <td>BTC</td>\n",
       "      <td>Bitcoin</td>\n",
       "      <td>135.30</td>\n",
       "      <td>135.98</td>\n",
       "      <td>132.10</td>\n",
       "      <td>134.21</td>\n",
       "      <td>0.0</td>\n",
       "      <td>1.500520e+09</td>\n",
       "    </tr>\n",
       "    <tr>\n",
       "      <th>1</th>\n",
       "      <td>2013-04-28</td>\n",
       "      <td>4.30</td>\n",
       "      <td>9174.0</td>\n",
       "      <td>4.431952e+07</td>\n",
       "      <td>17216.0</td>\n",
       "      <td>LTC</td>\n",
       "      <td>Litecoin</td>\n",
       "      <td>4.30</td>\n",
       "      <td>4.40</td>\n",
       "      <td>4.18</td>\n",
       "      <td>4.35</td>\n",
       "      <td>0.0</td>\n",
       "      <td>7.377340e+07</td>\n",
       "    </tr>\n",
       "    <tr>\n",
       "      <th>2</th>\n",
       "      <td>2013-04-29</td>\n",
       "      <td>134.44</td>\n",
       "      <td>51602.0</td>\n",
       "      <td>1.138128e+08</td>\n",
       "      <td>86925.0</td>\n",
       "      <td>BTC</td>\n",
       "      <td>Bitcoin</td>\n",
       "      <td>134.44</td>\n",
       "      <td>147.49</td>\n",
       "      <td>134.00</td>\n",
       "      <td>144.54</td>\n",
       "      <td>0.0</td>\n",
       "      <td>1.491160e+09</td>\n",
       "    </tr>\n",
       "    <tr>\n",
       "      <th>3</th>\n",
       "      <td>2013-04-29</td>\n",
       "      <td>4.37</td>\n",
       "      <td>9275.0</td>\n",
       "      <td>3.647810e+07</td>\n",
       "      <td>18395.0</td>\n",
       "      <td>LTC</td>\n",
       "      <td>Litecoin</td>\n",
       "      <td>4.37</td>\n",
       "      <td>4.57</td>\n",
       "      <td>4.23</td>\n",
       "      <td>4.38</td>\n",
       "      <td>0.0</td>\n",
       "      <td>7.495270e+07</td>\n",
       "    </tr>\n",
       "  </tbody>\n",
       "</table>\n",
       "</div>"
      ],
      "text/plain": [
       "         date   price  txCount      txVolume  activeAddresses symbol  \\\n",
       "0  2013-04-28  135.30  41702.0  6.879868e+07         117984.0    BTC   \n",
       "1  2013-04-28    4.30   9174.0  4.431952e+07          17216.0    LTC   \n",
       "2  2013-04-29  134.44  51602.0  1.138128e+08          86925.0    BTC   \n",
       "3  2013-04-29    4.37   9275.0  3.647810e+07          18395.0    LTC   \n",
       "\n",
       "       name    open    high     low   close  volume        market  \n",
       "0   Bitcoin  135.30  135.98  132.10  134.21     0.0  1.500520e+09  \n",
       "1  Litecoin    4.30    4.40    4.18    4.35     0.0  7.377340e+07  \n",
       "2   Bitcoin  134.44  147.49  134.00  144.54     0.0  1.491160e+09  \n",
       "3  Litecoin    4.37    4.57    4.23    4.38     0.0  7.495270e+07  "
      ]
     },
     "execution_count": 5,
     "metadata": {},
     "output_type": "execute_result"
    }
   ],
   "source": [
    "coins.head(4)"
   ]
  },
  {
   "cell_type": "markdown",
   "metadata": {},
   "source": [
    "Поясним значения хранящиеся в колонках\n",
    " - date - дата измерений\n",
    " - name - полное название монеты\n",
    " - symbol - сокращенное название монеты\n",
    " - price - средняя цена монеты за торговый день в USD\n",
    " - txCount - количество транзакций в сети данной монеты\n",
    " - txVolume - объем монет переведенных между адресами в сети данной монеты\n",
    " - activeAddresses - количество адресов совершавших а данный день транзации в сети данной монеты\n",
    " - open - цена монеты в начале торгов данного дня\n",
    " - close - цена монеты в конце торгов данного дня\n",
    " - high - самая высокая цена данной монеты в течение данного торгового дня\n",
    " - low - самая низкая цена данной монеты в течение данного торгового дня\n",
    " - volume - объем торгов данной монетой на биржах в данный день\n",
    " - market - капитализация данной монеты в данный день"
   ]
  },
  {
   "cell_type": "markdown",
   "metadata": {},
   "source": [
    "#### Изучим полученные данные. Ответьте на следующие вопросы (вставляйте клетки с кодом и тектом ниже):\n",
    "#### 1. Сколько всего различных монет представлено в датасете? (0.4 балла)"
   ]
  },
  {
   "cell_type": "code",
   "execution_count": 6,
   "metadata": {},
   "outputs": [
    {
     "data": {
      "text/plain": [
       "70"
      ]
     },
     "execution_count": 6,
     "metadata": {},
     "output_type": "execute_result"
    }
   ],
   "source": [
    "coins['name'].nunique()"
   ]
  },
  {
   "cell_type": "markdown",
   "metadata": {},
   "source": [
    "#### 2. За какой период данные мы имеем? (0.4 балла)"
   ]
  },
  {
   "cell_type": "code",
   "execution_count": 7,
   "metadata": {},
   "outputs": [
    {
     "name": "stdout",
     "output_type": "stream",
     "text": [
      "2013-04-28  -  2018-06-06\n"
     ]
    }
   ],
   "source": [
    "print(coins['date'].min(),' - ', coins['date'].max())"
   ]
  },
  {
   "cell_type": "markdown",
   "metadata": {},
   "source": [
    "#### 3. Есть ли пропуски в данных? Какой природы эти пропуски? (0.5 балла)"
   ]
  },
  {
   "cell_type": "code",
   "execution_count": null,
   "metadata": {},
   "outputs": [],
   "source": []
  },
  {
   "cell_type": "markdown",
   "metadata": {},
   "source": [
    "#### 4. У какой монеты и когда была самая высокая цена? (0.2 балла)"
   ]
  },
  {
   "cell_type": "code",
   "execution_count": 8,
   "metadata": {},
   "outputs": [
    {
     "name": "stdout",
     "output_type": "stream",
     "text": [
      "          name     high\n",
      "25971  Bitcoin  20089.0\n"
     ]
    }
   ],
   "source": [
    "print(coins[coins['high'] == coins['high'].max()][['name','high']])"
   ]
  },
  {
   "cell_type": "markdown",
   "metadata": {},
   "source": [
    "#### 5. У какой монеты самая высокая и самая низкая суммарная капитализация? Постройте круговую диаграмму с долями. (0.5 балла)"
   ]
  },
  {
   "cell_type": "code",
   "execution_count": null,
   "metadata": {},
   "outputs": [],
   "source": []
  },
  {
   "cell_type": "markdown",
   "metadata": {},
   "source": [
    "## 2. Визуализация (1 балл)"
   ]
  },
  {
   "cell_type": "markdown",
   "metadata": {},
   "source": [
    "Самая интересная часть работы аналитика состоит во внимательном вглядывании в правильно выбранные и построенные графики."
   ]
  },
  {
   "cell_type": "markdown",
   "metadata": {},
   "source": [
    "#### Реализуйте функцию для визуализации цен выбранной валюты за выбранный диапазон дат.\n",
    "На графике должны быть видны цены начала и конца продаж. А так же минимальная и максимальная цена за этот день.\n",
    "Подпишите график и оси координат. Добавьте сетку. Увеличьте размер изображения.\n",
    "Можете попробовать использовать matplotlib.finance.candlestick_ohlc (mpl_finance.candlestick_ohlc), но можно и без него."
   ]
  },
  {
   "cell_type": "code",
   "execution_count": 9,
   "metadata": {
    "scrolled": false
   },
   "outputs": [],
   "source": [
    "def plot_fancy_price_action(coins, symbol, start_date, end_date):\n",
    "    required = coins[(coins['symbol'] == symbol) & (coins['date'] >= start_date) & (coins['date'] <= end_date)]\n",
    "    required.index = pd.to_datetime(required['date'])\n",
    "    \n",
    "    plot = required['price'].plot(figsize=(14, 7), grid=True)\n",
    "    plot.set_ylabel('Price, USD')\n",
    "    plot.set_xlabel('Date')"
   ]
  },
  {
   "cell_type": "markdown",
   "metadata": {},
   "source": [
    "Посмотрим, что получилось:"
   ]
  },
  {
   "cell_type": "code",
   "execution_count": 10,
   "metadata": {},
   "outputs": [
    {
     "data": {
      "image/png": "[encoded data removed]",
      "text/plain": [
       "<Figure size 1008x504 with 1 Axes>"
      ]
     },
     "metadata": {
      "needs_background": "light"
     },
     "output_type": "display_data"
    }
   ],
   "source": [
    "plot_fancy_price_action(coins=coins, symbol='VERI', start_date='2013-06-01', end_date='2019-06-30') "
   ]
  },
  {
   "cell_type": "markdown",
   "metadata": {},
   "source": [
    "Никакого датасаенса в этом задании нет. Просто аналитик должен уметь строить графики, либо знать готовые инструменты."
   ]
  },
  {
   "cell_type": "markdown",
   "metadata": {},
   "source": [
    "## 3. Накачка и сброс (1 балл)\n",
    "Криптовалютные биржи до сих пор остаются маргинальным местом, эдаким диким западом финансового мира. Как следствие, здесь процветают схемы относительно\n",
    "честного отъема денег. Одна из них - pump'n'dump (накачка и сброс). Она выглядит следуюшим образом. Несколько крупных игроков или много мелких договариваются\n",
    "вместе купить малоизвестную монету с низкой ценой и объемом торгов. Это приводит к мгновенному взлету цены (pump), далее приходят неопытные игроки в надежде\n",
    "успеть заработать на таком росте. В этот момент организаторы схемы начнают все продавать (dump). Весь процесс занимает от нескольких минут до нескольких часов.\n",
    "\n",
    "#### Ваша задача найти самый сильный pump'n'dump монеты на заданном промежутке времени. Для этого для каждого дня определим число pnd равное отношению максимальной цены монеты в данный день к максимуму из цен открытия и закрытия в тот же день. Нужно найти день когда pnd был максимален и величину pnd."
   ]
  },
  {
   "cell_type": "code",
   "execution_count": 19,
   "metadata": {},
   "outputs": [],
   "source": [
    "def find_most_severe_pump_and_dump(coins, symbol, start_date, end_date):\n",
    "    required = coins[(coins['symbol'] == symbol) & (coins['date'] >= start_date) & (coins['date'] <= end_date)] \n",
    "    max_pnd = 0 \n",
    "    max_date = start_date \n",
    "    \n",
    "    for date in required['date']: \n",
    "        row = required[(required['date'] == date)] \n",
    "        pnd = row.high.values[0] / max(row.open.values[0], row.close.values[0]) \n",
    "        if pnd > max_pnd: \n",
    "            max_pnd = pnd \n",
    "            max_date = date \n",
    "    print(symbol,' ', max_date,' ', max_pnd)"
   ]
  },
  {
   "cell_type": "code",
   "execution_count": 20,
   "metadata": {},
   "outputs": [
    {
     "name": "stdout",
     "output_type": "stream",
     "text": [
      "BTC   2017-11-29   1.1428940004366206\n"
     ]
    }
   ],
   "source": [
    "find_most_severe_pump_and_dump(coins, symbol='BTC', start_date='2017-06-01', end_date='2018-06-01')"
   ]
  },
  {
   "cell_type": "markdown",
   "metadata": {},
   "source": [
    "#### Сравните эти значения для разных монет."
   ]
  },
  {
   "cell_type": "code",
   "execution_count": 21,
   "metadata": {},
   "outputs": [
    {
     "name": "stdout",
     "output_type": "stream",
     "text": [
      "symbol ------- date ------------ pnd\n",
      "BTC   2017-11-29   1.1428940004366206\n",
      "LTC   2018-02-07   1.1082257158899496\n",
      "DOGE   2017-12-17   1.2747326203208555\n",
      "VTC   2017-10-22   1.3952095808383234\n",
      "DGB   2017-12-17   1.359942799461642\n",
      "DASH   2017-11-29   1.2031621370259378\n",
      "MAID   2017-06-07   1.291362434422475\n",
      "XLM   2017-10-16   1.3325105113251052\n",
      "XVG   2017-12-17   1.726864726979804\n",
      "USDT   2017-11-12   1.099009900990099\n",
      "XEM   2018-01-04   1.1358695652173911\n",
      "ETH   2017-07-18   1.1433508255471652\n",
      "REP   2018-05-11   1.477601285025879\n",
      "DCR   2018-04-25   1.8054444587795122\n",
      "PIVX   2017-11-28   1.3587962962962963\n",
      "LSK   2017-06-07   1.4424778761061947\n",
      "WAVES   2017-06-03   1.2543352601156068\n",
      "ETC   2017-12-19   1.1482493171095107\n",
      "NEO   2017-06-10   1.232142857142857\n",
      "ICN   2018-04-04   1.5273318310770996\n",
      "ZEC   2017-09-28   1.3298776561493881\n",
      "GNT   2018-04-13   1.6882121234525307\n",
      "GNO   2018-03-25   1.653659748974773\n",
      "ANT   2017-10-13   1.7336683417085428\n",
      "AE   2017-08-06   1.7482936279178192\n",
      "BAT   2017-06-04   1.2342492522991364\n",
      "VERI   2017-06-11   33.549253731343285\n",
      "FUN   2017-06-29   12.490562327959102\n",
      "PAY   2017-07-06   1.3514021619927934\n",
      "SNT   2017-11-29   1.3861630321910696\n",
      "EOS   2017-07-03   1.3202933985330074\n",
      "GAS   2017-09-14   1.477106227106227\n",
      "MTL   2017-11-20   1.6728538283062646\n",
      "PPT   2017-09-11   3.720797720797721\n",
      "BTM   2017-07-29   1.2161345835579607\n",
      "OMG   2017-07-14   1.3312148056585635\n",
      "CVC   2017-12-25   1.7261674507210387\n",
      "ETHOS   2017-08-05   1.3698404867620457\n",
      "BNB   2017-12-26   1.176079734219269\n",
      "BCH   2017-11-12   1.783945106058206\n",
      "ZRX   2018-04-05   1.254990051045648\n",
      "VEN   2017-12-27   1.2713567839195978\n",
      "NAS   2017-11-17   1.1758241758241759\n",
      "WTC   2018-01-13   1.4986168741355463\n",
      "LRC   2017-09-23   4.528409090909091\n",
      "KNC   2017-09-19   1.8519240136385777\n",
      "TRX   2017-09-16   9.651010376843255\n",
      "MANA   2017-09-21   2.9702777900454884\n",
      "SALT   2017-09-29   1.227206946454414\n",
      "ADA   2017-10-01   1.29064039408867\n",
      "RHOC   2017-10-08   5.075208458226606\n",
      "ENG   2017-12-25   1.3618677042801557\n",
      "AION   2017-11-24   1.3624161073825503\n",
      "KCS   2017-10-25   1.3243755975664018\n",
      "ICX   2017-12-16   1.2538461538461536\n",
      "POWR   2017-11-02   1.3641688298886079\n",
      "BTG   2017-11-21   1.3651435200778415\n",
      "QASH   2017-11-23   1.6658378856041134\n",
      "DRGN   2018-01-02   1.211764705882353\n",
      "ELF   2018-01-05   1.2808988764044942\n",
      "SRN   2017-12-30   1.8916487255607852\n",
      "ZIL   2018-03-05   1.46318577374196\n",
      "POLY   2018-02-02   1.4553773349994372\n",
      "CENNZ   2018-04-07   1.177753188596324\n",
      "LOOM   2018-03-14   1.5265126623868976\n",
      "CTXC   2018-04-24   1.1428571428571428\n"
     ]
    }
   ],
   "source": [
    "def all_pnd(coins):\n",
    "    print('symbol ------- date ------------ pnd')\n",
    "    for symbol_tmp in coins['symbol'].unique():\n",
    "        find_most_severe_pump_and_dump(coins, symbol=symbol_tmp, start_date='2017-06-01', end_date='2018-06-01')\n",
    "        \n",
    "all_pnd(coins)"
   ]
  },
  {
   "cell_type": "markdown",
   "metadata": {},
   "source": [
    "## 4. Окупаемость инвестиций (1 балл)"
   ]
  },
  {
   "cell_type": "markdown",
   "metadata": {},
   "source": [
    "#### Вам нужно посчитать окупаемость инвестиций в криптовалюты на заданном промежутке времени. Окупаемость определяется как отношение изменения цены портфеля к исходной цене портфеля. Цена портфеля - это суммарная стоимость (в USD) всех монет в портфеле.\n",
    "investments - dict в котором ключи - это названия монет, значения - это сумма вложений в эту монету (в USD)"
   ]
  },
  {
   "cell_type": "code",
   "execution_count": 12,
   "metadata": {},
   "outputs": [
    {
     "ename": "SyntaxError",
     "evalue": "unexpected EOF while parsing (<ipython-input-12-c988a9443139>, line 2)",
     "traceback": [
      "\u001b[1;36m  File \u001b[1;32m\"<ipython-input-12-c988a9443139>\"\u001b[1;36m, line \u001b[1;32m2\u001b[0m\n\u001b[1;33m    # Paste your code here\u001b[0m\n\u001b[1;37m                          ^\u001b[0m\n\u001b[1;31mSyntaxError\u001b[0m\u001b[1;31m:\u001b[0m unexpected EOF while parsing\n"
     ],
     "output_type": "error"
    }
   ],
   "source": [
    "def compute_roi(coins, investments, start_date, end_date):\n",
    "    # Paste your code here"
   ]
  },
  {
   "cell_type": "code",
   "execution_count": null,
   "metadata": {},
   "outputs": [],
   "source": [
    "compute_roi(coins, investments={'BTC': 1000, 'LTC': 500}, start_date='2018-04-04', end_date='2018-06-01')"
   ]
  },
  {
   "cell_type": "code",
   "execution_count": null,
   "metadata": {},
   "outputs": [],
   "source": [
    "compute_roi(coins, investments={'BTC': 1000, 'LTC': 500}, start_date='2013-05-28', end_date='2018-06-06')"
   ]
  },
  {
   "cell_type": "markdown",
   "metadata": {},
   "source": [
    "## 5. Технический анализ (1 балл)"
   ]
  },
  {
   "cell_type": "markdown",
   "metadata": {},
   "source": [
    "Технический анализ это способ предсказания поведения графика по некоторым вспомогательным величинам построенным по исходному графику. Один из простейших методов технического анализа - границы Болинджера. Кто-то верит, что график касаясь границы от него должен отражаться."
   ]
  },
  {
   "cell_type": "markdown",
   "metadata": {},
   "source": [
    "#### Нарисуйте график цены, скользящее среднее и [границы Боллинджера](https://en.wikipedia.org/wiki/Bollinger_Bands) c параметрами N (window) = 21, K (width) = 2.\n",
    "\n",
    "Границы считаются очень просто: (MA + Kσ) и (MA - Kσ), где MA - скользящее среднее за N дней, а σ - скользящее стандартное отклонение за N дней.\n",
    "\n",
    "Тут вам поможет функция rolling для подсчёта среднего и стандартного отклонения по скользящему окну.\n",
    "\n",
    "Не забудьте подписать график и оси, отрисовать легенду и выбрать для нее лучшее расположение."
   ]
  },
  {
   "cell_type": "code",
   "execution_count": null,
   "metadata": {},
   "outputs": [],
   "source": [
    "def plot_bollinger_bands(coins, symbol, window, width):\n",
    "    # Paste your code here"
   ]
  },
  {
   "cell_type": "code",
   "execution_count": null,
   "metadata": {},
   "outputs": [],
   "source": [
    "plot_bollinger_bands(coins=coins, symbol='EOS', window=21, width=2)  # тут должен появиться график"
   ]
  },
  {
   "cell_type": "markdown",
   "metadata": {},
   "source": [
    "#### Сделайте вывод о том, выполнялось ли правило Боллинджера."
   ]
  },
  {
   "cell_type": "markdown",
   "metadata": {},
   "source": []
  },
  {
   "cell_type": "markdown",
   "metadata": {},
   "source": [
    "## 6. Капитализация как индикатор (1 балл)"
   ]
  },
  {
   "cell_type": "markdown",
   "metadata": {},
   "source": [
    "Многие люди, которые торгуют криптовалютой, любят смотреть на капитализацию. Давайте поймём почему."
   ]
  },
  {
   "cell_type": "markdown",
   "metadata": {},
   "source": [
    "#### Нарисуйте еще два графика. На первом должна быть общая капитализация биткойна (BTC), эфира (ETH), еос (EOS), биткойн кэша (BCH), стеллара (XLM) и лайткойна (LTC). На втором - доли капитализаций этих монет от общей капитализации рынка. При этом используйте данные начиная с 2017-07-01."
   ]
  },
  {
   "cell_type": "code",
   "execution_count": null,
   "metadata": {
    "scrolled": false
   },
   "outputs": [],
   "source": [
    "def plot_coins_capitalizations(coins, symbols, start_date):\n",
    "    # Paste your code here"
   ]
  },
  {
   "cell_type": "code",
   "execution_count": null,
   "metadata": {},
   "outputs": [],
   "source": [
    "plot_coins_capitalizations(\n",
    "    coins=coins,\n",
    "    symbols=('BTC', 'ETH', 'EOS', 'BCH', 'XLM', 'LTC'),\n",
    "    start_date='2017-07-01'\n",
    ")"
   ]
  },
  {
   "cell_type": "markdown",
   "metadata": {},
   "source": [
    "#### Проанализируйте зависимость доли капитализации альткойнов от доли капитализации биткойна. Как выдумаете, в чём причина такой зависимости?"
   ]
  },
  {
   "cell_type": "markdown",
   "metadata": {},
   "source": []
  },
  {
   "cell_type": "markdown",
   "metadata": {},
   "source": [
    "## 7. Корреляции монет (1 балл)"
   ]
  },
  {
   "cell_type": "markdown",
   "metadata": {},
   "source": [
    "#### Теперь нужно подробнее посмотреть на корреляции средних капитализаций монет. При этом будем смотреть на среднее сглаженное за последние window дней до дня date с коэффициентом сглаживания alpha для набора монет symbols.  \n",
    "#### Реализуйте функцию, которая будет возвращать квадратный DataFrame с числом строк и столбцов равным числу рассматриваемых монет и со значениями корреляций."
   ]
  },
  {
   "cell_type": "code",
   "execution_count": null,
   "metadata": {},
   "outputs": [],
   "source": [
    "def calc_coins_correlations(coins, date, symbols, window, alpha):\n",
    "    # Paste your code here"
   ]
  },
  {
   "cell_type": "code",
   "execution_count": null,
   "metadata": {},
   "outputs": [],
   "source": [
    "correlations = calc_coins_correlations(coins, date=\"2018-06-06\",\n",
    "                                       symbols=['BTC', 'ETH', 'EOS', 'BCH', 'XLM', 'LTC', 'ADA'],\n",
    "                                       window=21, alpha=0.1)\n",
    "# Теперь посмотрим на эти корреляции следующим образом:\n",
    "correlations.style.background_gradient(cmap='coolwarm').set_precision(2)"
   ]
  },
  {
   "cell_type": "markdown",
   "metadata": {},
   "source": [
    "Довольно интересно ещё взглянуть на 2017-12-27:"
   ]
  },
  {
   "cell_type": "code",
   "execution_count": null,
   "metadata": {},
   "outputs": [],
   "source": [
    "correlations = calc_coins_correlations(coins, date=\"2017-12-27\",\n",
    "                                       symbols=['BTC', 'ETH', 'EOS', 'BCH', 'XLM', 'LTC', 'ADA'],\n",
    "                                       window=21, alpha=0.1)\n",
    "# Теперь посмотрим на эти корреляции следующим образом:\n",
    "correlations.style.background_gradient(cmap='coolwarm').set_precision(2)"
   ]
  },
  {
   "cell_type": "markdown",
   "metadata": {},
   "source": [
    "## 8. Анализ одной стратегии (2 балла)"
   ]
  },
  {
   "cell_type": "markdown",
   "metadata": {},
   "source": [
    "Разберем один мечтательный пример. Посмотрим какую прибыль могла бы нам принести хрестоматийная торговая стратегия основанная на скользящих средних. Стратегия выглядит следующим образом: мы строим две скользящие среднии для графика цены. С маленьким окном (ведущее скользящее среднее) и с бОльшим окном (запаздывающее скользящее среднее). Мы покупаем, когда ведущее среднее становится больше запаздывающего, и продаем в противном случае. Посмотрим на пример"
   ]
  },
  {
   "cell_type": "code",
   "execution_count": null,
   "metadata": {},
   "outputs": [],
   "source": [
    "def plot_moving_averages(coins, symbol, leading_window, lagging_window, start_date, end_date):\n",
    "    coin = coins[coins['symbol'] == symbol][start_date:end_date]\n",
    "    price = coin['price']\n",
    "    leading_mean = price.rolling(window=leading_window).mean()\n",
    "    lagging_mean = price.rolling(window=lagging_window).mean()\n",
    "\n",
    "    fig = plt.figure(figsize=(16, 9))\n",
    "    ax = fig.add_subplot(111)\n",
    "    \n",
    "    ax.set_title('Price action for {}'.format(symbol))\n",
    "    ax.plot(leading_mean, color='green', label='MA{}'.format(leading_window))\n",
    "    ax.plot(lagging_mean, color='red', label='MA{}'.format(lagging_window))\n",
    "    ax.plot(price, color='blue', label='price')\n",
    "    ax.set_xlabel('Date')\n",
    "    ax.set_ylabel('Price')\n",
    "    ax.legend(loc='best')\n",
    "    ax.grid(True)\n",
    "    plt.show() \n",
    "\n",
    "plot_moving_averages(\n",
    "    coins=coins, \n",
    "    symbol='BTC', \n",
    "    leading_window=21, \n",
    "    lagging_window=50, \n",
    "    start_date='2017-05-01',\n",
    "    end_date='2018-08-01')"
   ]
  },
  {
   "cell_type": "markdown",
   "metadata": {},
   "source": [
    "Видно, что для скользящее среднее с бОльшим окном медленнее реагирует на изменение цены. Именно на этой идее и основана торговая стратегия.\n",
    "#### Реализуйте функцию, которая строит два графика. На правом будут изображены цена и скользящие средние. На левом - во сколько раз изменится размер вложений при использовании нашей стратегии и при обычном инвестировании \n",
    "\n",
    "#### Notes:\n",
    "Давайте использовать только цены закрытия. При этом, чтобы узнать цены за вчерашний день, стоит использовать метод shift(1) у Series.\n",
    "Отношение цен закрытия за сегодня и за вчера - это мой multiplier за сегодняшний день. При этом давайте строить графики накопления для multipliers. Т.е. если мы смотрим на 3 дня и в первый день multiplier = 1.5, во второй- 0.5 и в третий 2. То график будет выглядеть так: (1.5, 1.5 * 0.5, 1.5 * 0.5 * 2).\n",
    "\n",
    "При использовании нашей новой стратегии мы будем либо покупать, если ведущее среднее становится больше запаздующего на некоторый threshold (при этом лучше разницу сперва поделить на цену), либо оставлять всё как есть. При этом, конечно, нужно, принимая решения за сегодняшний день, смотреть только на статистику из прошлого."
   ]
  },
  {
   "cell_type": "code",
   "execution_count": null,
   "metadata": {
    "scrolled": false
   },
   "outputs": [],
   "source": [
    "def plot_moving_averages_strategy(\n",
    "    coins, symbol, lead_window, lag_window, threshold, start_date, end_date\n",
    "):\n",
    "    # Paste your code here"
   ]
  },
  {
   "cell_type": "code",
   "execution_count": null,
   "metadata": {},
   "outputs": [],
   "source": [
    "# Теперь на основе реализованной функции сделаем интерактивные графики и поизучаем, что получилось:\n",
    "symbol_selector = ipywidgets.Dropdown(\n",
    "    options=('BTC', 'ETH', 'EOS', 'BCH', 'XLM', 'LTC', 'ADA'),\n",
    "    index=0,\n",
    "    value='BTC',\n",
    "    layout={'width': '700px'},\n",
    "    continuous_update=False\n",
    ")\n",
    "\n",
    "lead_window_slider = ipywidgets.IntSlider(\n",
    "    value=21, \n",
    "    min=1, \n",
    "    max=200, \n",
    "    step=1,\n",
    "    layout={'width': '700px'},\n",
    "    continuous_update=False)\n",
    "\n",
    "lag_window_slider = ipywidgets.IntSlider(\n",
    "    value=50,\n",
    "    min=1, \n",
    "    max=200, \n",
    "    layout={'width': '700px'},\n",
    "    step=1, continuous_update=False)\n",
    "\n",
    "threshold_slider = ipywidgets.FloatSlider(\n",
    "    min=0, \n",
    "    max=0.20, \n",
    "    step=0.001, \n",
    "    value=0.025,\n",
    "    layout={'width': '700px'},\n",
    "    continuous_update=False)\n",
    "\n",
    "start_date_slider = ipywidgets.SelectionSlider(\n",
    "    options=pd.date_range('2013-04-28', '2018-06-06', freq='D'),\n",
    "    index=0,\n",
    "    value=pd.Timestamp('2017-05-01'),\n",
    "    layout={'width': '700px'},\n",
    "    continuous_update=False\n",
    ")\n",
    "\n",
    "end_date_slider = ipywidgets.SelectionSlider(\n",
    "    options=pd.date_range('2013-04-28', '2018-06-06', freq='D'),\n",
    "    index=0,\n",
    "    value=pd.Timestamp('2018-01-01'),\n",
    "    layout={'width': '700px'},\n",
    "    continuous_update=False\n",
    ")\n",
    "\n",
    "ipywidgets.interact(\n",
    "    plot_moving_averages_strategy,\n",
    "    coins=ipywidgets.fixed(coins),\n",
    "    symbol=symbol_selector,\n",
    "    lead_window=lead_window_slider,\n",
    "    lag_window=lag_window_slider,\n",
    "    threshold=threshold_slider,\n",
    "    start_date=start_date_slider,\n",
    "    end_date=end_date_slider\n",
    ")"
   ]
  },
  {
   "cell_type": "markdown",
   "metadata": {},
   "source": [
    "#### Попробуйте разные значения параметров для разных монет и сделайте выводы о применимости такой модели."
   ]
  },
  {
   "cell_type": "markdown",
   "metadata": {},
   "source": []
  },
  {
   "cell_type": "markdown",
   "metadata": {},
   "source": [
    "## 9. Отказ от ответственности \n",
    "Все примеры разобранных здесь стратегий являются игрушечными и не подходят для реальной торговли на бирже. Без серьезной подготовки вас там съедят с потрохами."
   ]
  },
  {
   "cell_type": "markdown",
   "metadata": {},
   "source": [
    "![Disclamer](https://i0.kym-cdn.com/entries/icons/mobile/000/024/785/Screen_Shot_2017-11-30_at_1.12.37_PM.jpg)"
   ]
  }
 ],
 "metadata": {
  "kernelspec": {
   "display_name": "Python 3",
   "language": "python",
   "name": "python3"
  },
  "language_info": {
   "codemirror_mode": {
    "name": "ipython",
    "version": 3
   },
   "file_extension": ".py",
   "mimetype": "text/x-python",
   "name": "python",
   "nbconvert_exporter": "python",
   "pygments_lexer": "ipython3",
   "version": "3.7.2"
  }
 },
 "nbformat": 4,
 "nbformat_minor": 2
}
